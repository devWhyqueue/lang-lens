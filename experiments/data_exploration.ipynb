{
 "cells": [
  {
   "metadata": {},
   "cell_type": "markdown",
   "source": [
    "# Exploring the dataset\n",
    "## Background\n",
    "The **WiLI-2018 dataset** (Wikipedia Language Identification) is a benchmark dataset designed for written language identification tasks. Introduced by **Martin Thoma** in 2018, it consists of **1,000 short texts** for each of **235 languages**, sourced from Wikipedia. The dataset includes a diverse range of languages, covering different writing systems and linguistic families. WiLI-2018 serves as a standard evaluation set for language identification models, allowing researchers to compare performance across a broad spectrum of languages. It is structured to facilitate machine learning experiments, with balanced class distributions to ensure fair comparisons. [1]\n",
    "\n",
    "The dataset used in this project is a subset of the WiLI-2018 dataset, focusing on a smaller number of languages. This subset includes **22 languages** with **1,000 samples** each, resulting in a total of **22,000 samples**. Furthermore, it was preprocessed in an undisclosed manner by Khan, the author of the dataset on Kaggle. [3]\n",
    "\n",
    "## First look\n",
    "Let's start by loading the dataset and examining its structure.\n"
   ],
   "id": "196fa288ccd6a175"
  },
  {
   "metadata": {
    "ExecuteTime": {
     "end_time": "2025-02-19T18:03:23.292451Z",
     "start_time": "2025-02-19T18:03:22.690477Z"
    }
   },
   "cell_type": "code",
   "source": [
    "import pandas as pd\n",
    "\n",
    "# Load the dataset\n",
    "file_path = \"../data/wili_subset_khan.csv\"\n",
    "df = pd.read_csv(file_path)\n",
    "\n",
    "# Display basic info\n",
    "df.info()"
   ],
   "id": "2d52c2d48998df02",
   "outputs": [
    {
     "name": "stdout",
     "output_type": "stream",
     "text": [
      "<class 'pandas.core.frame.DataFrame'>\n",
      "RangeIndex: 22000 entries, 0 to 21999\n",
      "Data columns (total 2 columns):\n",
      " #   Column    Non-Null Count  Dtype \n",
      "---  ------    --------------  ----- \n",
      " 0   text      22000 non-null  object\n",
      " 1   language  22000 non-null  object\n",
      "dtypes: object(2)\n",
      "memory usage: 343.9+ KB\n"
     ]
    }
   ],
   "execution_count": 1
  },
  {
   "metadata": {},
   "cell_type": "markdown",
   "source": "The dataset contains **22,000 samples** and **2 columns** (`text` and `language`). There are no missing values, meaning every row has both text and a corresponding language label.",
   "id": "f1e3e50500c0bb84"
  },
  {
   "metadata": {
    "ExecuteTime": {
     "end_time": "2025-02-19T18:03:35.268646Z",
     "start_time": "2025-02-19T18:03:35.260601Z"
    }
   },
   "cell_type": "code",
   "source": [
    "# Display the first few rows of the dataset\n",
    "df.head(20)"
   ],
   "id": "b6c3ec62e24ae2f6",
   "outputs": [
    {
     "data": {
      "text/plain": [
       "                                                 text    language\n",
       "0   klement gottwaldi surnukeha palsameeriti ning ...    Estonian\n",
       "1   sebes joseph pereira thomas  på eng the jesuit...     Swedish\n",
       "2   ถนนเจริญกรุง อักษรโรมัน thanon charoen krung เ...        Thai\n",
       "3   விசாகப்பட்டினம் தமிழ்ச்சங்கத்தை இந்துப் பத்திர...       Tamil\n",
       "4   de spons behoort tot het geslacht haliclona en...       Dutch\n",
       "5   エノが行きがかりでバスに乗ってしまい、気分が悪くなった際に助けるが、今すぐバスを降りたいと運...    Japanese\n",
       "6   tsutinalar i̇ngilizce tsuutina kanadada albert...     Turkish\n",
       "7   müller mox figura centralis circulorum doctoru...       Latin\n",
       "8   برقی بار electric charge تمام زیرجوہری ذرات کی...        Urdu\n",
       "9   シャーリー・フィールドは、サン・ベルナルド・アベニュー沿い市民センターとrtマーティン高校に...    Japanese\n",
       "10  kemunculan pertamanya adalah ketika mencium ka...  Indonesian\n",
       "11  barocco pt escândalo de ª página é um filme fr...   Portugese\n",
       "12  association de recherche et de sauvegarde de l...      French\n",
       "13  胡赛尼本人和小说的主人公阿米尔一样，都是出生在阿富汗首都喀布尔，少年时代便离开了这个国家。胡...     Chinese\n",
       "14  한국에서 성씨가 사용되기 시작한 정확한 시기는 알 수 없으나 한자漢字 등 중국 문물...      Korean\n",
       "15  การฟาดฟันของบรรดาสาวงามในกองประกวด miss beauty...        Thai\n",
       "16  dorota rabczewska artistinimega doda sündinud ...    Estonian\n",
       "17  diante destes gerenciamentos podendo ser feito...   Portugese\n",
       "18  besemer s van der geest v murray j bijleveld c...   Portugese\n",
       "19  महाराष्ट्र  मई  को भारत का राज्य बनाया गया था।...       Hindi"
      ],
      "text/html": [
       "<div>\n",
       "<style scoped>\n",
       "    .dataframe tbody tr th:only-of-type {\n",
       "        vertical-align: middle;\n",
       "    }\n",
       "\n",
       "    .dataframe tbody tr th {\n",
       "        vertical-align: top;\n",
       "    }\n",
       "\n",
       "    .dataframe thead th {\n",
       "        text-align: right;\n",
       "    }\n",
       "</style>\n",
       "<table border=\"1\" class=\"dataframe\">\n",
       "  <thead>\n",
       "    <tr style=\"text-align: right;\">\n",
       "      <th></th>\n",
       "      <th>text</th>\n",
       "      <th>language</th>\n",
       "    </tr>\n",
       "  </thead>\n",
       "  <tbody>\n",
       "    <tr>\n",
       "      <th>0</th>\n",
       "      <td>klement gottwaldi surnukeha palsameeriti ning ...</td>\n",
       "      <td>Estonian</td>\n",
       "    </tr>\n",
       "    <tr>\n",
       "      <th>1</th>\n",
       "      <td>sebes joseph pereira thomas  på eng the jesuit...</td>\n",
       "      <td>Swedish</td>\n",
       "    </tr>\n",
       "    <tr>\n",
       "      <th>2</th>\n",
       "      <td>ถนนเจริญกรุง อักษรโรมัน thanon charoen krung เ...</td>\n",
       "      <td>Thai</td>\n",
       "    </tr>\n",
       "    <tr>\n",
       "      <th>3</th>\n",
       "      <td>விசாகப்பட்டினம் தமிழ்ச்சங்கத்தை இந்துப் பத்திர...</td>\n",
       "      <td>Tamil</td>\n",
       "    </tr>\n",
       "    <tr>\n",
       "      <th>4</th>\n",
       "      <td>de spons behoort tot het geslacht haliclona en...</td>\n",
       "      <td>Dutch</td>\n",
       "    </tr>\n",
       "    <tr>\n",
       "      <th>5</th>\n",
       "      <td>エノが行きがかりでバスに乗ってしまい、気分が悪くなった際に助けるが、今すぐバスを降りたいと運...</td>\n",
       "      <td>Japanese</td>\n",
       "    </tr>\n",
       "    <tr>\n",
       "      <th>6</th>\n",
       "      <td>tsutinalar i̇ngilizce tsuutina kanadada albert...</td>\n",
       "      <td>Turkish</td>\n",
       "    </tr>\n",
       "    <tr>\n",
       "      <th>7</th>\n",
       "      <td>müller mox figura centralis circulorum doctoru...</td>\n",
       "      <td>Latin</td>\n",
       "    </tr>\n",
       "    <tr>\n",
       "      <th>8</th>\n",
       "      <td>برقی بار electric charge تمام زیرجوہری ذرات کی...</td>\n",
       "      <td>Urdu</td>\n",
       "    </tr>\n",
       "    <tr>\n",
       "      <th>9</th>\n",
       "      <td>シャーリー・フィールドは、サン・ベルナルド・アベニュー沿い市民センターとrtマーティン高校に...</td>\n",
       "      <td>Japanese</td>\n",
       "    </tr>\n",
       "    <tr>\n",
       "      <th>10</th>\n",
       "      <td>kemunculan pertamanya adalah ketika mencium ka...</td>\n",
       "      <td>Indonesian</td>\n",
       "    </tr>\n",
       "    <tr>\n",
       "      <th>11</th>\n",
       "      <td>barocco pt escândalo de ª página é um filme fr...</td>\n",
       "      <td>Portugese</td>\n",
       "    </tr>\n",
       "    <tr>\n",
       "      <th>12</th>\n",
       "      <td>association de recherche et de sauvegarde de l...</td>\n",
       "      <td>French</td>\n",
       "    </tr>\n",
       "    <tr>\n",
       "      <th>13</th>\n",
       "      <td>胡赛尼本人和小说的主人公阿米尔一样，都是出生在阿富汗首都喀布尔，少年时代便离开了这个国家。胡...</td>\n",
       "      <td>Chinese</td>\n",
       "    </tr>\n",
       "    <tr>\n",
       "      <th>14</th>\n",
       "      <td>한국에서 성씨가 사용되기 시작한 정확한 시기는 알 수 없으나 한자漢字 등 중국 문물...</td>\n",
       "      <td>Korean</td>\n",
       "    </tr>\n",
       "    <tr>\n",
       "      <th>15</th>\n",
       "      <td>การฟาดฟันของบรรดาสาวงามในกองประกวด miss beauty...</td>\n",
       "      <td>Thai</td>\n",
       "    </tr>\n",
       "    <tr>\n",
       "      <th>16</th>\n",
       "      <td>dorota rabczewska artistinimega doda sündinud ...</td>\n",
       "      <td>Estonian</td>\n",
       "    </tr>\n",
       "    <tr>\n",
       "      <th>17</th>\n",
       "      <td>diante destes gerenciamentos podendo ser feito...</td>\n",
       "      <td>Portugese</td>\n",
       "    </tr>\n",
       "    <tr>\n",
       "      <th>18</th>\n",
       "      <td>besemer s van der geest v murray j bijleveld c...</td>\n",
       "      <td>Portugese</td>\n",
       "    </tr>\n",
       "    <tr>\n",
       "      <th>19</th>\n",
       "      <td>महाराष्ट्र  मई  को भारत का राज्य बनाया गया था।...</td>\n",
       "      <td>Hindi</td>\n",
       "    </tr>\n",
       "  </tbody>\n",
       "</table>\n",
       "</div>"
      ]
     },
     "execution_count": 3,
     "metadata": {},
     "output_type": "execute_result"
    }
   ],
   "execution_count": 3
  },
  {
   "metadata": {},
   "cell_type": "markdown",
   "source": [
    "The `text` column contains multilingual text samples. The `language` column labels each text sample with its respective language. The text samples vary significantly in length and script (Latin, Cyrillic, Thai, Tamil, etc.).\n",
    "\n",
    "## Duplicates\n",
    "Let's check for duplicates."
   ],
   "id": "c031925d0e34eab7"
  },
  {
   "metadata": {
    "ExecuteTime": {
     "end_time": "2025-02-19T11:25:37.770388Z",
     "start_time": "2025-02-19T11:25:37.643946Z"
    }
   },
   "cell_type": "code",
   "source": [
    "# Check for duplicate entries\n",
    "num_duplicates = df.duplicated().sum()\n",
    "num_duplicates"
   ],
   "id": "3fbb0ec62e2e6329",
   "outputs": [
    {
     "data": {
      "text/plain": [
       "np.int64(141)"
      ]
     },
     "execution_count": 3,
     "metadata": {},
     "output_type": "execute_result"
    }
   ],
   "execution_count": 3
  },
  {
   "metadata": {},
   "cell_type": "markdown",
   "source": "There are **141 duplicate entries** in the dataset. Let's take a closer look at these duplicates.",
   "id": "e12b9524f28f7116"
  },
  {
   "metadata": {
    "ExecuteTime": {
     "end_time": "2025-02-19T11:25:37.913377Z",
     "start_time": "2025-02-19T11:25:37.819290Z"
    }
   },
   "cell_type": "code",
   "source": [
    "# Display duplicate entries\n",
    "duplicates = df[df.duplicated(keep=False)]\n",
    "duplicates.head(10)"
   ],
   "id": "fb8b289281584783",
   "outputs": [
    {
     "data": {
      "text/plain": [
       "                                                   text    language\n",
       "166   bisby fa roskov yr orrell tm nicolson d paglin...  Indonesian\n",
       "209   inlandsklimat råder i trakten årsmedeltemperat...     Swedish\n",
       "220   تاثيرات ئي پنسلينونه ورته دي داسيدو په مقابل ک...      Pushto\n",
       "410   bisby fa roskov yr orrell tm nicolson d paglin...  Indonesian\n",
       "440   aastakümned  aastad  aastad  aastad  aastad  a...    Estonian\n",
       "526   haec commentatio automatice praeparata res ast...       Latin\n",
       "581   haec commentatio automatice praeparata res ast...       Latin\n",
       "647   இக்கோயில் முதன்மைத் திருக்கோயில் என்ற வகைப்பாட...       Tamil\n",
       "1012  haec commentatio automatice praeparata res ast...       Latin\n",
       "1027  bisby fa roskov yr orrell tm nicolson d paglin...  Indonesian"
      ],
      "text/html": [
       "<div>\n",
       "<style scoped>\n",
       "    .dataframe tbody tr th:only-of-type {\n",
       "        vertical-align: middle;\n",
       "    }\n",
       "\n",
       "    .dataframe tbody tr th {\n",
       "        vertical-align: top;\n",
       "    }\n",
       "\n",
       "    .dataframe thead th {\n",
       "        text-align: right;\n",
       "    }\n",
       "</style>\n",
       "<table border=\"1\" class=\"dataframe\">\n",
       "  <thead>\n",
       "    <tr style=\"text-align: right;\">\n",
       "      <th></th>\n",
       "      <th>text</th>\n",
       "      <th>language</th>\n",
       "    </tr>\n",
       "  </thead>\n",
       "  <tbody>\n",
       "    <tr>\n",
       "      <th>166</th>\n",
       "      <td>bisby fa roskov yr orrell tm nicolson d paglin...</td>\n",
       "      <td>Indonesian</td>\n",
       "    </tr>\n",
       "    <tr>\n",
       "      <th>209</th>\n",
       "      <td>inlandsklimat råder i trakten årsmedeltemperat...</td>\n",
       "      <td>Swedish</td>\n",
       "    </tr>\n",
       "    <tr>\n",
       "      <th>220</th>\n",
       "      <td>تاثيرات ئي پنسلينونه ورته دي داسيدو په مقابل ک...</td>\n",
       "      <td>Pushto</td>\n",
       "    </tr>\n",
       "    <tr>\n",
       "      <th>410</th>\n",
       "      <td>bisby fa roskov yr orrell tm nicolson d paglin...</td>\n",
       "      <td>Indonesian</td>\n",
       "    </tr>\n",
       "    <tr>\n",
       "      <th>440</th>\n",
       "      <td>aastakümned  aastad  aastad  aastad  aastad  a...</td>\n",
       "      <td>Estonian</td>\n",
       "    </tr>\n",
       "    <tr>\n",
       "      <th>526</th>\n",
       "      <td>haec commentatio automatice praeparata res ast...</td>\n",
       "      <td>Latin</td>\n",
       "    </tr>\n",
       "    <tr>\n",
       "      <th>581</th>\n",
       "      <td>haec commentatio automatice praeparata res ast...</td>\n",
       "      <td>Latin</td>\n",
       "    </tr>\n",
       "    <tr>\n",
       "      <th>647</th>\n",
       "      <td>இக்கோயில் முதன்மைத் திருக்கோயில் என்ற வகைப்பாட...</td>\n",
       "      <td>Tamil</td>\n",
       "    </tr>\n",
       "    <tr>\n",
       "      <th>1012</th>\n",
       "      <td>haec commentatio automatice praeparata res ast...</td>\n",
       "      <td>Latin</td>\n",
       "    </tr>\n",
       "    <tr>\n",
       "      <th>1027</th>\n",
       "      <td>bisby fa roskov yr orrell tm nicolson d paglin...</td>\n",
       "      <td>Indonesian</td>\n",
       "    </tr>\n",
       "  </tbody>\n",
       "</table>\n",
       "</div>"
      ]
     },
     "execution_count": 4,
     "metadata": {},
     "output_type": "execute_result"
    }
   ],
   "execution_count": 4
  },
  {
   "metadata": {},
   "cell_type": "markdown",
   "source": "The duplicates are equal in text and label, e.g. including texts written in Indonesian or Latin. A removal of these duplicates could be performed to ensure the dataset's integrity.",
   "id": "f3d663f771416e96"
  },
  {
   "metadata": {},
   "cell_type": "markdown",
   "source": [
    "## Language distribution\n",
    "At first, let's see which languages are included in the dataset."
   ],
   "id": "375574360538640d"
  },
  {
   "metadata": {
    "ExecuteTime": {
     "end_time": "2025-02-19T11:25:38.009302Z",
     "start_time": "2025-02-19T11:25:37.999336Z"
    }
   },
   "cell_type": "code",
   "source": [
    "# List unique languages\n",
    "unique_languages = df['language'].unique()\n",
    "unique_languages"
   ],
   "id": "8888105ba8266433",
   "outputs": [
    {
     "data": {
      "text/plain": [
       "array(['Estonian', 'Swedish', 'Thai', 'Tamil', 'Dutch', 'Japanese',\n",
       "       'Turkish', 'Latin', 'Urdu', 'Indonesian', 'Portugese', 'French',\n",
       "       'Chinese', 'Korean', 'Hindi', 'Spanish', 'Pushto', 'Persian',\n",
       "       'Romanian', 'Russian', 'English', 'Arabic'], dtype=object)"
      ]
     },
     "execution_count": 5,
     "metadata": {},
     "output_type": "execute_result"
    }
   ],
   "execution_count": 5
  },
  {
   "metadata": {},
   "cell_type": "markdown",
   "source": "There seems to be a typo in the language label for \"Portuguese\". Let's correct this.",
   "id": "b2fc92d28bdb95d6"
  },
  {
   "metadata": {
    "ExecuteTime": {
     "end_time": "2025-02-19T11:25:38.324056Z",
     "start_time": "2025-02-19T11:25:38.311847Z"
    }
   },
   "cell_type": "code",
   "source": [
    "# Correcting the typo in 'Portuguese'\n",
    "df.loc[df['language'] == 'Portugese', 'language'] = 'Portuguese'"
   ],
   "id": "fb3c8103a3b0d976",
   "outputs": [],
   "execution_count": 6
  },
  {
   "metadata": {},
   "cell_type": "markdown",
   "source": "It might also be beneficial to have the labels in a standardized format, like ISO 639-1 language codes. Let's map the language names to their respective ISO codes.",
   "id": "9cab85358bb19681"
  },
  {
   "metadata": {
    "ExecuteTime": {
     "end_time": "2025-02-19T11:25:38.615142Z",
     "start_time": "2025-02-19T11:25:38.601419Z"
    }
   },
   "cell_type": "code",
   "source": [
    "# Corresponding ISO 639-3 codes\n",
    "iso_639_3_codes = {\n",
    "    'Estonian': 'est',\n",
    "    'Swedish': 'swe',\n",
    "    'Thai': 'tha',\n",
    "    'Tamil': 'tam',\n",
    "    'Dutch': 'nld',\n",
    "    'Japanese': 'jpn',\n",
    "    'Turkish': 'tur',\n",
    "    'Latin': 'lat',\n",
    "    'Urdu': 'urd',\n",
    "    'Indonesian': 'ind',\n",
    "    'Portuguese': 'por',\n",
    "    'French': 'fra',\n",
    "    'Chinese': 'zho',\n",
    "    'Korean': 'kor',\n",
    "    'Hindi': 'hin',\n",
    "    'Spanish': 'spa',\n",
    "    'Pushto': 'pus',\n",
    "    'Persian': 'fas',\n",
    "    'Romanian': 'ron',\n",
    "    'Russian': 'rus',\n",
    "    'English': 'eng',\n",
    "    'Arabic': 'ara'\n",
    "}\n",
    "\n",
    "# Map language names to ISO 639-3 codes\n",
    "df['lang_code'] = df['language'].map(iso_639_3_codes)"
   ],
   "id": "cabed458de1e8946",
   "outputs": [],
   "execution_count": 7
  },
  {
   "metadata": {},
   "cell_type": "markdown",
   "source": "Next, let's explore the distribution of languages in the dataset.",
   "id": "5c408dcf23f64f82"
  },
  {
   "metadata": {
    "ExecuteTime": {
     "end_time": "2025-02-19T11:25:38.784963Z",
     "start_time": "2025-02-19T11:25:38.769276Z"
    }
   },
   "cell_type": "code",
   "source": [
    "# Count unique languages\n",
    "num_unique_languages = df['language'].nunique()\n",
    "\n",
    "# Frequency distribution of languages\n",
    "language_counts = df['language'].value_counts()\n",
    "\n",
    "# Summary of language distribution\n",
    "most_common_languages = language_counts.head(5)  # Top 5 most common languages\n",
    "least_common_languages = language_counts.tail(5)  # Least common languages\n",
    "\n",
    "num_unique_languages, most_common_languages, least_common_languages"
   ],
   "id": "54b51448f6744e69",
   "outputs": [
    {
     "data": {
      "text/plain": [
       "(22,\n",
       " language\n",
       " Estonian    1000\n",
       " Swedish     1000\n",
       " Thai        1000\n",
       " Tamil       1000\n",
       " Dutch       1000\n",
       " Name: count, dtype: int64,\n",
       " language\n",
       " Persian     1000\n",
       " Romanian    1000\n",
       " Russian     1000\n",
       " English     1000\n",
       " Arabic      1000\n",
       " Name: count, dtype: int64)"
      ]
     },
     "execution_count": 8,
     "metadata": {},
     "output_type": "execute_result"
    }
   ],
   "execution_count": 8
  },
  {
   "metadata": {},
   "cell_type": "markdown",
   "source": [
    "The dataset contains **22 languages**. Each language appears **exactly 1,000 times**, meaning the dataset is perfectly balanced across languages.\n",
    "\n",
    "## Text length distribution\n",
    "Let's examine the distribution of text lengths in the dataset."
   ],
   "id": "62db8723ae6e5cd4"
  },
  {
   "metadata": {
    "ExecuteTime": {
     "end_time": "2025-02-19T11:25:39.430747Z",
     "start_time": "2025-02-19T11:25:38.874983Z"
    }
   },
   "cell_type": "code",
   "source": [
    "# Compute text length in characters and words\n",
    "df['char_count'] = df['text'].str.len()\n",
    "df['word_count'] = df['text'].str.split().apply(len)\n",
    "\n",
    "# Summary statistics\n",
    "char_count_stats = df['char_count'].describe()\n",
    "word_count_stats = df['word_count'].describe()\n",
    "\n",
    "char_count_stats, word_count_stats"
   ],
   "id": "62b736b82c163c74",
   "outputs": [
    {
     "data": {
      "text/plain": [
       "(count    22000.000000\n",
       " mean       356.033227\n",
       " std        238.614087\n",
       " min          8.000000\n",
       " 25%        187.000000\n",
       " 50%        274.000000\n",
       " 75%        441.000000\n",
       " max       1341.000000\n",
       " Name: char_count, dtype: float64,\n",
       " count    22000.000000\n",
       " mean        53.317409\n",
       " std         44.745736\n",
       " min          0.000000\n",
       " 25%         25.000000\n",
       " 50%         41.000000\n",
       " 75%         69.000000\n",
       " max        331.000000\n",
       " Name: word_count, dtype: float64)"
      ]
     },
     "execution_count": 9,
     "metadata": {},
     "output_type": "execute_result"
    }
   ],
   "execution_count": 9
  },
  {
   "metadata": {},
   "cell_type": "markdown",
   "source": [
    "- **Character count:**\n",
    "  - Average text length: **356 characters**.\n",
    "  - Shortest text: **8 characters**.\n",
    "  - Longest text: **1,341 characters**.\n",
    "- **Word count:**\n",
    "  - Average word count: **53 words**.\n",
    "  - Minimum word count: **0 (possible empty or non-space-separated text)**.\n",
    "  - Maximum word count: **331 words**."
   ],
   "id": "ee3e108cfd8e0a7b"
  },
  {
   "metadata": {
    "ExecuteTime": {
     "end_time": "2025-02-19T11:25:41.975223Z",
     "start_time": "2025-02-19T11:25:39.458666Z"
    }
   },
   "cell_type": "code",
   "source": [
    "import matplotlib.pyplot as plt\n",
    "\n",
    "# Plot histogram of character count\n",
    "plt.figure(figsize=(10, 5))\n",
    "plt.hist(df['char_count'], bins=30, edgecolor='black', alpha=0.7)\n",
    "plt.xlabel(\"Character Count\")\n",
    "plt.ylabel(\"Frequency\")\n",
    "plt.title(\"Distribution of Text Lengths (Character Count)\")\n",
    "plt.show()\n",
    "\n",
    "# Plot histogram of word count\n",
    "plt.figure(figsize=(10, 5))\n",
    "plt.hist(df['word_count'], bins=30, edgecolor='black', alpha=0.7)\n",
    "plt.xlabel(\"Word Count\")\n",
    "plt.ylabel(\"Frequency\")\n",
    "plt.title(\"Distribution of Text Lengths (Word Count)\")\n",
    "plt.show()"
   ],
   "id": "d7d001dcaf7905cd",
   "outputs": [
    {
     "data": {
      "text/plain": [
       "<Figure size 1000x500 with 1 Axes>"
      ],
      "image/png": "[encoded data removed]"
     },
     "metadata": {},
     "output_type": "display_data"
    },
    {
     "data": {
      "text/plain": [
       "<Figure size 1000x500 with 1 Axes>"
      ],
      "image/png": "[encoded data removed]"
     },
     "metadata": {},
     "output_type": "display_data"
    }
   ],
   "execution_count": 10
  },
  {
   "metadata": {},
   "cell_type": "markdown",
   "source": [
    "- **Text Length Distribution**:\n",
    "   - The majority of texts fall between **100 to 500 characters**.\n",
    "   - There are some very long texts (**above 1,000 characters**), which might need further investigation.\n",
    "\n",
    "- **Word Count Distribution**:\n",
    "   - Most samples have **20 to 100 words**.\n",
    "   - A few texts contain **over 300 words**, which might be outliers."
   ],
   "id": "37434bc18fef12a7"
  },
  {
   "metadata": {},
   "cell_type": "markdown",
   "source": [
    "## Outlier\n",
    "Let us investigate outliers w.r.t. text length."
   ],
   "id": "906c63b37c7f324c"
  },
  {
   "metadata": {
    "ExecuteTime": {
     "end_time": "2025-02-19T11:25:42.027021Z",
     "start_time": "2025-02-19T11:25:42.003813Z"
    }
   },
   "cell_type": "code",
   "source": [
    "# Display the top 5 shortest texts\n",
    "shortest_texts = df.nsmallest(5, 'char_count')[['text', 'language', 'char_count']]\n",
    "shortest_texts"
   ],
   "id": "c1ffb70af3daf443",
   "outputs": [
    {
     "data": {
      "text/plain": [
       "                                                    text  language  char_count\n",
       "9380                                            謙譲は接尾辞-s  Japanese           8\n",
       "9483                                       is-（ある・いる）は、-  Japanese          13\n",
       "18176                                                        Dutch          41\n",
       "7175   maailma karika kokkuvõttes oli ta             ...  Estonian          62\n",
       "10591  中期朝鮮語の連体形（冠形詞形）は現代朝鮮語と同様にn系とr系の系列がある。n系・r系ともに「...  Japanese          78"
      ],
      "text/html": [
       "<div>\n",
       "<style scoped>\n",
       "    .dataframe tbody tr th:only-of-type {\n",
       "        vertical-align: middle;\n",
       "    }\n",
       "\n",
       "    .dataframe tbody tr th {\n",
       "        vertical-align: top;\n",
       "    }\n",
       "\n",
       "    .dataframe thead th {\n",
       "        text-align: right;\n",
       "    }\n",
       "</style>\n",
       "<table border=\"1\" class=\"dataframe\">\n",
       "  <thead>\n",
       "    <tr style=\"text-align: right;\">\n",
       "      <th></th>\n",
       "      <th>text</th>\n",
       "      <th>language</th>\n",
       "      <th>char_count</th>\n",
       "    </tr>\n",
       "  </thead>\n",
       "  <tbody>\n",
       "    <tr>\n",
       "      <th>9380</th>\n",
       "      <td>謙譲は接尾辞-s</td>\n",
       "      <td>Japanese</td>\n",
       "      <td>8</td>\n",
       "    </tr>\n",
       "    <tr>\n",
       "      <th>9483</th>\n",
       "      <td>is-（ある・いる）は、-</td>\n",
       "      <td>Japanese</td>\n",
       "      <td>13</td>\n",
       "    </tr>\n",
       "    <tr>\n",
       "      <th>18176</th>\n",
       "      <td></td>\n",
       "      <td>Dutch</td>\n",
       "      <td>41</td>\n",
       "    </tr>\n",
       "    <tr>\n",
       "      <th>7175</th>\n",
       "      <td>maailma karika kokkuvõttes oli ta             ...</td>\n",
       "      <td>Estonian</td>\n",
       "      <td>62</td>\n",
       "    </tr>\n",
       "    <tr>\n",
       "      <th>10591</th>\n",
       "      <td>中期朝鮮語の連体形（冠形詞形）は現代朝鮮語と同様にn系とr系の系列がある。n系・r系ともに「...</td>\n",
       "      <td>Japanese</td>\n",
       "      <td>78</td>\n",
       "    </tr>\n",
       "  </tbody>\n",
       "</table>\n",
       "</div>"
      ]
     },
     "execution_count": 11,
     "metadata": {},
     "output_type": "execute_result"
    }
   ],
   "execution_count": 11
  },
  {
   "metadata": {},
   "cell_type": "markdown",
   "source": "The shortest text has only **8 characters**, which might be an outlier. Further, the Dutch text with **41 characters** seems to be empty. Let's investigate further.",
   "id": "62e46e86d792e6ae"
  },
  {
   "metadata": {
    "ExecuteTime": {
     "end_time": "2025-02-19T11:25:42.170797Z",
     "start_time": "2025-02-19T11:25:42.159658Z"
    }
   },
   "cell_type": "code",
   "source": [
    "# Display set of characters in the Dutch text\n",
    "dutch_text = df[df['char_count'] == 41].iloc[0]['text']\n",
    "set(dutch_text)"
   ],
   "id": "1d6f8b9807900dd4",
   "outputs": [
    {
     "data": {
      "text/plain": [
       "{' '}"
      ]
     },
     "execution_count": 12,
     "metadata": {},
     "output_type": "execute_result"
    }
   ],
   "execution_count": 12
  },
  {
   "metadata": {},
   "cell_type": "markdown",
   "source": "As suspected, the Dutch texts consists of only **whitespace characters**. This will be impossible to classify, a perfect score is not achievable.",
   "id": "42fb2556fc3e83b7"
  },
  {
   "metadata": {
    "ExecuteTime": {
     "end_time": "2025-02-19T11:25:42.364595Z",
     "start_time": "2025-02-19T11:25:42.339499Z"
    }
   },
   "cell_type": "code",
   "source": [
    "# Check if there are more texts containing only whitespace characters\n",
    "whitespace_texts = df[df['text'].str.isspace()]\n",
    "whitespace_texts"
   ],
   "id": "de89eb21ffb0c034",
   "outputs": [
    {
     "data": {
      "text/plain": [
       "                                            text language lang_code  \\\n",
       "18176                                               Dutch       nld   \n",
       "\n",
       "       char_count  word_count  \n",
       "18176          41           0  "
      ],
      "text/html": [
       "<div>\n",
       "<style scoped>\n",
       "    .dataframe tbody tr th:only-of-type {\n",
       "        vertical-align: middle;\n",
       "    }\n",
       "\n",
       "    .dataframe tbody tr th {\n",
       "        vertical-align: top;\n",
       "    }\n",
       "\n",
       "    .dataframe thead th {\n",
       "        text-align: right;\n",
       "    }\n",
       "</style>\n",
       "<table border=\"1\" class=\"dataframe\">\n",
       "  <thead>\n",
       "    <tr style=\"text-align: right;\">\n",
       "      <th></th>\n",
       "      <th>text</th>\n",
       "      <th>language</th>\n",
       "      <th>lang_code</th>\n",
       "      <th>char_count</th>\n",
       "      <th>word_count</th>\n",
       "    </tr>\n",
       "  </thead>\n",
       "  <tbody>\n",
       "    <tr>\n",
       "      <th>18176</th>\n",
       "      <td></td>\n",
       "      <td>Dutch</td>\n",
       "      <td>nld</td>\n",
       "      <td>41</td>\n",
       "      <td>0</td>\n",
       "    </tr>\n",
       "  </tbody>\n",
       "</table>\n",
       "</div>"
      ]
     },
     "execution_count": 13,
     "metadata": {},
     "output_type": "execute_result"
    }
   ],
   "execution_count": 13
  },
  {
   "metadata": {},
   "cell_type": "markdown",
   "source": "As there are no more texts containing only whitespace characters, it seems that the Dutch text is the only one. This single sample will hardly affect the overall performance of the model, but proves that even a benchmark dataset can contain such anomalies. If desired, it can be removed from the dataset like so:",
   "id": "a52b81a6f4b8a943"
  },
  {
   "metadata": {
    "ExecuteTime": {
     "end_time": "2025-02-19T11:25:42.599515Z",
     "start_time": "2025-02-19T11:25:42.594513Z"
    }
   },
   "cell_type": "code",
   "source": [
    "# Clean the dataset by removing whitespace-only texts\n",
    "df = df[df['text'].str.strip() != \"\"]"
   ],
   "id": "e8b55b3263e1c389",
   "outputs": [],
   "execution_count": 14
  },
  {
   "metadata": {},
   "cell_type": "markdown",
   "source": [
    "## Similarity to WiLI-2018\n",
    "Let us examine how similar the dataset is to the original WiLI-2018 dataset. We start by loading the data."
   ],
   "id": "46ff44355fe84eb7"
  },
  {
   "metadata": {
    "ExecuteTime": {
     "end_time": "2025-02-19T11:25:45.029851Z",
     "start_time": "2025-02-19T11:25:42.733016Z"
    }
   },
   "cell_type": "code",
   "source": [
    "import os\n",
    "\n",
    "# Load WiLI-2018 dataset\n",
    "file_paths = {name: os.path.join(\"../data/wili-2018\", fname) for name, fname in\n",
    "              [(\"x_train\", \"x_train.txt\"), (\"y_train\", \"y_train.txt\"),\n",
    "               (\"x_test\", \"x_test.txt\"), (\"y_test\", \"y_test.txt\")]}\n",
    "\n",
    "# Read text and labels\n",
    "data = {key: open(path, encoding=\"utf-8\").read().splitlines() for key, path in file_paths.items()}\n",
    "\n",
    "# Combine train and test data into a DataFrame\n",
    "wili_df = pd.DataFrame({\"text\": data[\"x_train\"] + data[\"x_test\"],\n",
    "                        \"language\": data[\"y_train\"] + data[\"y_test\"]})\n",
    "\n",
    "# Filter for the same languages as in the subset dataset\n",
    "wili_df = wili_df[wili_df[\"language\"].isin(df[\"lang_code\"])]\n",
    "\n",
    "len(wili_df)\n"
   ],
   "id": "bcd3a27ac6a3a1d6",
   "outputs": [
    {
     "data": {
      "text/plain": [
       "22000"
      ]
     },
     "execution_count": 15,
     "metadata": {},
     "output_type": "execute_result"
    }
   ],
   "execution_count": 15
  },
  {
   "metadata": {},
   "cell_type": "markdown",
   "source": "Now let's look for exact text matches.",
   "id": "98f4c2fc316aed3d"
  },
  {
   "metadata": {
    "ExecuteTime": {
     "end_time": "2025-02-19T11:25:45.119861Z",
     "start_time": "2025-02-19T11:25:45.064692Z"
    }
   },
   "cell_type": "code",
   "source": [
    "# Perform a direct text-only match without considering language labels\n",
    "matched_texts = df[df[\"text\"].isin(wili_df[\"text\"])]\n",
    "unmatched_texts = df[~df[\"text\"].isin(wili_df[\"text\"])]\n",
    "\n",
    "# Count how many texts match\n",
    "num_matched = len(matched_texts)\n",
    "num_unmatched = len(unmatched_texts)\n",
    "\n",
    "num_matched, num_unmatched"
   ],
   "id": "b155a19f1729b8ef",
   "outputs": [
    {
     "data": {
      "text/plain": [
       "(577, 21423)"
      ]
     },
     "execution_count": 16,
     "metadata": {},
     "output_type": "execute_result"
    }
   ],
   "execution_count": 16
  },
  {
   "metadata": {},
   "cell_type": "markdown",
   "source": "We observe that just **577 rows** from the subset dataset match the WiLI-2018 dataset exactly. This is only a percentage of **2.6%** of the subset dataset. Let's take a look at similar texts.",
   "id": "1d92b8a43df150ae"
  },
  {
   "metadata": {
    "ExecuteTime": {
     "end_time": "2025-02-19T11:26:01.923811Z",
     "start_time": "2025-02-19T11:25:45.155770Z"
    }
   },
   "cell_type": "code",
   "source": [
    "from sklearn.feature_extraction.text import TfidfVectorizer\n",
    "from sklearn.metrics.pairwise import cosine_similarity\n",
    "import numpy as np\n",
    "\n",
    "# Convert text to TF-IDF vectors\n",
    "vectorizer = TfidfVectorizer().fit(wili_df[\"text\"].tolist() + unmatched_texts[\"text\"].tolist())\n",
    "\n",
    "wili_vectors = vectorizer.transform(wili_df[\"text\"])\n",
    "user_vectors = vectorizer.transform(unmatched_texts[\"text\"])\n",
    "\n",
    "# Compute cosine similarity for all pairs\n",
    "cosine_similarities = cosine_similarity(user_vectors, wili_vectors)\n",
    "\n",
    "# Find the highest similarity score for each user text\n",
    "max_similarities = cosine_similarities.max(axis=1)\n",
    "\n",
    "# Count texts with high similarity\n",
    "highly_similar_count = np.sum(max_similarities > 0.9)\n",
    "\n",
    "highly_similar_count, len(max_similarities)"
   ],
   "id": "a912375ce7aecaa1",
   "outputs": [
    {
     "data": {
      "text/plain": [
       "(np.int64(18358), 21423)"
      ]
     },
     "execution_count": 17,
     "metadata": {},
     "output_type": "execute_result"
    }
   ],
   "execution_count": 17
  },
  {
   "metadata": {},
   "cell_type": "markdown",
   "source": "**18.358 texts** from the subset dataset have a high similarity score of **0.9 or above** with the WiLI-2018 dataset. This is a percentage of **83.45%** of the subset dataset. Let's take a look at some of these similar texts.",
   "id": "b249cb51692eebca"
  },
  {
   "metadata": {
    "ExecuteTime": {
     "end_time": "2025-02-19T11:26:02.630161Z",
     "start_time": "2025-02-19T11:26:01.967979Z"
    }
   },
   "cell_type": "code",
   "source": [
    "# Get indices of best matches for each user text\n",
    "best_match_indices = cosine_similarities.argmax(axis=1)\n",
    "\n",
    "# Create DataFrame with user texts, best matches, and similarity scores\n",
    "results_df = pd.DataFrame({\n",
    "    \"user_text\": unmatched_texts[\"text\"].values,\n",
    "    \"max_similarity\": max_similarities,\n",
    "    \"matched_wili_text\": wili_df[\"text\"].iloc[best_match_indices].values\n",
    "})\n",
    "\n",
    "# Sort by similarity score\n",
    "most_similar = results_df.nlargest(20, \"max_similarity\")\n",
    "\n",
    "# Display most similar texts\n",
    "most_similar_df = pd.DataFrame({\n",
    "    \"Original WiLI Text\": most_similar[\"matched_wili_text\"].values,\n",
    "    \"Khan preprocessed\": most_similar[\"user_text\"].values,\n",
    "    \"Similarity\": most_similar[\"max_similarity\"].values,\n",
    "})\n",
    "\n",
    "most_similar_df"
   ],
   "id": "cf05785df7c73c4e",
   "outputs": [
    {
     "data": {
      "text/plain": [
       "                                   Original WiLI Text  \\\n",
       "0   นัสริน (เมทินี กิ่งโพยม) ผู้จัดการกองประกวดคนเ...   \n",
       "1   당시 경찰은 장남을 조사하며 상황파악에 나섰지만 애매한 점이 많았고, 장녀의 진술을...   \n",
       "2   ثم يصف لنا السبكي مؤامرة ابن العلقمي في قتل ال...   \n",
       "3   ภาพนิชิกิ (ญี่ปุ่น: Nishiki-e 錦絵 ?) - เป็นวิธี...   \n",
       "4   เนื่องจากอาร์ซีเอสทำงานกับไฟล์เดียวต่อการดำเนิ...   \n",
       "5   В «филиппиках» А. С. Пушкина и А. Н. Радищева ...   \n",
       "6   Äärelinnade rongiühendus ja DART (Dublini piir...   \n",
       "7   Looduslikult on mööbli-toonesepa puhul tegu Eu...   \n",
       "8   وكتاب الأغاني أحد المجاميع الأدبية العربية الر...   \n",
       "9   Positiivse hedonismi järgi on seesmiseks hüvek...   \n",
       "10  Al-Ziyarat al-Iraqiyya ila al-Hadarat al-Barza...   \n",
       "11  นักอนาธิปไตยได้สนับสนุนรูปแบบต่าง ๆ ของประชาธิ...   \n",
       "12  هغه معلومات چې دڅاه دکندنې له امله راخکاره کيږ...   \n",
       "13  Moreover, many hundreds of hybrids and cultiva...   \n",
       "14  Emased munevad munad ühe-kahekaupa toidutaime ...   \n",
       "15  تپندۍ د خټگرۍ يوه وسپنيزه آله ده چې د خټو، سيم...   \n",
       "16  خلال عظاته ركز التعليم اللاهوتي للبابا على الش...   \n",
       "17  균류의 생태는 취급하기 어려운 분야이다. 균류는 배양을 하고 처음으로 관찰할 수 있...   \n",
       "18  格林擅長以垃圾話激怒對手，據《洛杉磯時報》報導，格林在最會說垃圾話的球員排行榜中排名第一，勝...   \n",
       "19  とにかくだらしのない兄であるが、妹のエノとの関係は良好で、兄を「兄様」と呼んで慕っており、兄...   \n",
       "\n",
       "                                    Khan preprocessed  Similarity  \n",
       "0   นัสริน เมทินี กิ่งโพยม ผู้จัดการกองประกวดคนเก่...         1.0  \n",
       "1   당시 경찰은 장남을 조사하며 상황파악에 나섰지만 애매한 점이 많았고 장녀의 진술을 ...         1.0  \n",
       "2   ثم يصف لنا السبكي مؤامرة ابن العلقمي في قتل ال...         1.0  \n",
       "3   ภาพนิชิกิ ญี่ปุ่น nishiki-e 錦絵 ? - เป็นวิธีการ...         1.0  \n",
       "4   เนื่องจากอาร์ซีเอสทำงานกับไฟล์เดียวต่อการดำเนิ...         1.0  \n",
       "5   в «филиппиках» а с пушкина и а н радищева выра...         1.0  \n",
       "6   äärelinnade rongiühendus ja dart dublini piirk...         1.0  \n",
       "7   looduslikult on mööbli-toonesepa puhul tegu eu...         1.0  \n",
       "8   وكتاب الأغاني أحد المجاميع الأدبية العربية الر...         1.0  \n",
       "9   positiivse hedonismi järgi on seesmiseks hüvek...         1.0  \n",
       "10  al-ziyarat al-iraqiyya ila al-hadarat al-barza...         1.0  \n",
       "11  นักอนาธิปไตยได้สนับสนุนรูปแบบต่าง ๆ ของประชาธิ...         1.0  \n",
       "12  هغه معلومات چې دڅاه دکندنې له امله راخکاره کيږ...         1.0  \n",
       "13  moreover many hundreds of hybrids and cultivar...         1.0  \n",
       "14  emased munevad munad ühe-kahekaupa toidutaime ...         1.0  \n",
       "15  تپندۍ د خټگرۍ يوه وسپنيزه آله ده چې د خټو سيمټ...         1.0  \n",
       "16  خلال عظاته ركز التعليم اللاهوتي للبابا على الش...         1.0  \n",
       "17  균류의 생태는 취급하기 어려운 분야이다 균류는 배양을 하고 처음으로 관찰할 수 있는...         1.0  \n",
       "18  格林擅長以垃圾話激怒對手，據《洛杉磯時報》報導，格林在最會說垃圾話的球員排行榜中排名第一，勝...         1.0  \n",
       "19  とにかくだらしのない兄であるが、妹のエノとの関係は良好で、兄を「兄様」と呼んで慕っており、兄...         1.0  "
      ],
      "text/html": [
       "<div>\n",
       "<style scoped>\n",
       "    .dataframe tbody tr th:only-of-type {\n",
       "        vertical-align: middle;\n",
       "    }\n",
       "\n",
       "    .dataframe tbody tr th {\n",
       "        vertical-align: top;\n",
       "    }\n",
       "\n",
       "    .dataframe thead th {\n",
       "        text-align: right;\n",
       "    }\n",
       "</style>\n",
       "<table border=\"1\" class=\"dataframe\">\n",
       "  <thead>\n",
       "    <tr style=\"text-align: right;\">\n",
       "      <th></th>\n",
       "      <th>Original WiLI Text</th>\n",
       "      <th>Khan preprocessed</th>\n",
       "      <th>Similarity</th>\n",
       "    </tr>\n",
       "  </thead>\n",
       "  <tbody>\n",
       "    <tr>\n",
       "      <th>0</th>\n",
       "      <td>นัสริน (เมทินี กิ่งโพยม) ผู้จัดการกองประกวดคนเ...</td>\n",
       "      <td>นัสริน เมทินี กิ่งโพยม ผู้จัดการกองประกวดคนเก่...</td>\n",
       "      <td>1.0</td>\n",
       "    </tr>\n",
       "    <tr>\n",
       "      <th>1</th>\n",
       "      <td>당시 경찰은 장남을 조사하며 상황파악에 나섰지만 애매한 점이 많았고, 장녀의 진술을...</td>\n",
       "      <td>당시 경찰은 장남을 조사하며 상황파악에 나섰지만 애매한 점이 많았고 장녀의 진술을 ...</td>\n",
       "      <td>1.0</td>\n",
       "    </tr>\n",
       "    <tr>\n",
       "      <th>2</th>\n",
       "      <td>ثم يصف لنا السبكي مؤامرة ابن العلقمي في قتل ال...</td>\n",
       "      <td>ثم يصف لنا السبكي مؤامرة ابن العلقمي في قتل ال...</td>\n",
       "      <td>1.0</td>\n",
       "    </tr>\n",
       "    <tr>\n",
       "      <th>3</th>\n",
       "      <td>ภาพนิชิกิ (ญี่ปุ่น: Nishiki-e 錦絵 ?) - เป็นวิธี...</td>\n",
       "      <td>ภาพนิชิกิ ญี่ปุ่น nishiki-e 錦絵 ? - เป็นวิธีการ...</td>\n",
       "      <td>1.0</td>\n",
       "    </tr>\n",
       "    <tr>\n",
       "      <th>4</th>\n",
       "      <td>เนื่องจากอาร์ซีเอสทำงานกับไฟล์เดียวต่อการดำเนิ...</td>\n",
       "      <td>เนื่องจากอาร์ซีเอสทำงานกับไฟล์เดียวต่อการดำเนิ...</td>\n",
       "      <td>1.0</td>\n",
       "    </tr>\n",
       "    <tr>\n",
       "      <th>5</th>\n",
       "      <td>В «филиппиках» А. С. Пушкина и А. Н. Радищева ...</td>\n",
       "      <td>в «филиппиках» а с пушкина и а н радищева выра...</td>\n",
       "      <td>1.0</td>\n",
       "    </tr>\n",
       "    <tr>\n",
       "      <th>6</th>\n",
       "      <td>Äärelinnade rongiühendus ja DART (Dublini piir...</td>\n",
       "      <td>äärelinnade rongiühendus ja dart dublini piirk...</td>\n",
       "      <td>1.0</td>\n",
       "    </tr>\n",
       "    <tr>\n",
       "      <th>7</th>\n",
       "      <td>Looduslikult on mööbli-toonesepa puhul tegu Eu...</td>\n",
       "      <td>looduslikult on mööbli-toonesepa puhul tegu eu...</td>\n",
       "      <td>1.0</td>\n",
       "    </tr>\n",
       "    <tr>\n",
       "      <th>8</th>\n",
       "      <td>وكتاب الأغاني أحد المجاميع الأدبية العربية الر...</td>\n",
       "      <td>وكتاب الأغاني أحد المجاميع الأدبية العربية الر...</td>\n",
       "      <td>1.0</td>\n",
       "    </tr>\n",
       "    <tr>\n",
       "      <th>9</th>\n",
       "      <td>Positiivse hedonismi järgi on seesmiseks hüvek...</td>\n",
       "      <td>positiivse hedonismi järgi on seesmiseks hüvek...</td>\n",
       "      <td>1.0</td>\n",
       "    </tr>\n",
       "    <tr>\n",
       "      <th>10</th>\n",
       "      <td>Al-Ziyarat al-Iraqiyya ila al-Hadarat al-Barza...</td>\n",
       "      <td>al-ziyarat al-iraqiyya ila al-hadarat al-barza...</td>\n",
       "      <td>1.0</td>\n",
       "    </tr>\n",
       "    <tr>\n",
       "      <th>11</th>\n",
       "      <td>นักอนาธิปไตยได้สนับสนุนรูปแบบต่าง ๆ ของประชาธิ...</td>\n",
       "      <td>นักอนาธิปไตยได้สนับสนุนรูปแบบต่าง ๆ ของประชาธิ...</td>\n",
       "      <td>1.0</td>\n",
       "    </tr>\n",
       "    <tr>\n",
       "      <th>12</th>\n",
       "      <td>هغه معلومات چې دڅاه دکندنې له امله راخکاره کيږ...</td>\n",
       "      <td>هغه معلومات چې دڅاه دکندنې له امله راخکاره کيږ...</td>\n",
       "      <td>1.0</td>\n",
       "    </tr>\n",
       "    <tr>\n",
       "      <th>13</th>\n",
       "      <td>Moreover, many hundreds of hybrids and cultiva...</td>\n",
       "      <td>moreover many hundreds of hybrids and cultivar...</td>\n",
       "      <td>1.0</td>\n",
       "    </tr>\n",
       "    <tr>\n",
       "      <th>14</th>\n",
       "      <td>Emased munevad munad ühe-kahekaupa toidutaime ...</td>\n",
       "      <td>emased munevad munad ühe-kahekaupa toidutaime ...</td>\n",
       "      <td>1.0</td>\n",
       "    </tr>\n",
       "    <tr>\n",
       "      <th>15</th>\n",
       "      <td>تپندۍ د خټگرۍ يوه وسپنيزه آله ده چې د خټو، سيم...</td>\n",
       "      <td>تپندۍ د خټگرۍ يوه وسپنيزه آله ده چې د خټو سيمټ...</td>\n",
       "      <td>1.0</td>\n",
       "    </tr>\n",
       "    <tr>\n",
       "      <th>16</th>\n",
       "      <td>خلال عظاته ركز التعليم اللاهوتي للبابا على الش...</td>\n",
       "      <td>خلال عظاته ركز التعليم اللاهوتي للبابا على الش...</td>\n",
       "      <td>1.0</td>\n",
       "    </tr>\n",
       "    <tr>\n",
       "      <th>17</th>\n",
       "      <td>균류의 생태는 취급하기 어려운 분야이다. 균류는 배양을 하고 처음으로 관찰할 수 있...</td>\n",
       "      <td>균류의 생태는 취급하기 어려운 분야이다 균류는 배양을 하고 처음으로 관찰할 수 있는...</td>\n",
       "      <td>1.0</td>\n",
       "    </tr>\n",
       "    <tr>\n",
       "      <th>18</th>\n",
       "      <td>格林擅長以垃圾話激怒對手，據《洛杉磯時報》報導，格林在最會說垃圾話的球員排行榜中排名第一，勝...</td>\n",
       "      <td>格林擅長以垃圾話激怒對手，據《洛杉磯時報》報導，格林在最會說垃圾話的球員排行榜中排名第一，勝...</td>\n",
       "      <td>1.0</td>\n",
       "    </tr>\n",
       "    <tr>\n",
       "      <th>19</th>\n",
       "      <td>とにかくだらしのない兄であるが、妹のエノとの関係は良好で、兄を「兄様」と呼んで慕っており、兄...</td>\n",
       "      <td>とにかくだらしのない兄であるが、妹のエノとの関係は良好で、兄を「兄様」と呼んで慕っており、兄...</td>\n",
       "      <td>1.0</td>\n",
       "    </tr>\n",
       "  </tbody>\n",
       "</table>\n",
       "</div>"
      ]
     },
     "execution_count": 18,
     "metadata": {},
     "output_type": "execute_result"
    }
   ],
   "execution_count": 18
  },
  {
   "metadata": {},
   "cell_type": "markdown",
   "source": [
    "The texts are all very similar, indicated by the maximum cosine similarity score of **1.0**. However, at first glance we can already make an educated guess which preprocessing steps were applied to the original WiLI-2018 dataset. The texts were likely lowercased and stripped of parentheses.\n",
    "\n",
    "Next, let's take a look if the original dataset also suffers from the same whitespace-only text issue and duplicates."
   ],
   "id": "8cf258ee76e3c436"
  },
  {
   "metadata": {
    "ExecuteTime": {
     "end_time": "2025-02-19T11:26:02.925472Z",
     "start_time": "2025-02-19T11:26:02.769353Z"
    }
   },
   "cell_type": "code",
   "source": [
    "# Check for whitespace-only texts in WiLI-2018\n",
    "wili_whitespace_texts = wili_df[wili_df[\"text\"].str.isspace()]\n",
    "\n",
    "# Check for duplicates in WiLI-2018\n",
    "wili_duplicates = wili_df[wili_df.duplicated()]\n",
    "\n",
    "len(wili_whitespace_texts), len(wili_duplicates)"
   ],
   "id": "f8af91f34839bb62",
   "outputs": [
    {
     "data": {
      "text/plain": [
       "(0, 113)"
      ]
     },
     "execution_count": 19,
     "metadata": {},
     "output_type": "execute_result"
    }
   ],
   "execution_count": 19
  },
  {
   "metadata": {},
   "cell_type": "markdown",
   "source": "The whitespace issue is not present in the original WiLI-2018 dataset, as there are no whitespace-only texts. However, the dataset also contains **113 duplicates**. This shows that even a well-known benchmark dataset like WiLI-2018 is not immune to data quality issues.",
   "id": "bab3e286a6b29881"
  },
  {
   "metadata": {},
   "cell_type": "markdown",
   "source": [
    "## References\n",
    "\n",
    "1. M. Thoma, “The WiLI benchmark dataset for written language identification,” Jan. 2018, [Online]. Available: http://arxiv.org/abs/1801.07779\n",
    "2. M. Kleine Kalvelage, “Language Detection.” Accessed: Feb. 19, 2025. [Online]. Available: https://www.kaggle.com/code/martinkk5575/language-detection\n",
    "3. Z. Khan, “Language Identification dataset.” Accessed: Feb. 19, 2025. [Online]. Available: https://www.kaggle.com/datasets/zarajamshaid/language-identification-datasst\n",
    "\n"
   ],
   "id": "b1047aa11646cef1"
  }
 ],
 "metadata": {
  "kernelspec": {
   "display_name": "Python 3",
   "language": "python",
   "name": "python3"
  },
  "language_info": {
   "codemirror_mode": {
    "name": "ipython",
    "version": 2
   },
   "file_extension": ".py",
   "mimetype": "text/x-python",
   "name": "python",
   "nbconvert_exporter": "python",
   "pygments_lexer": "ipython2",
   "version": "2.7.6"
  }
 },
 "nbformat": 4,
 "nbformat_minor": 5
}
